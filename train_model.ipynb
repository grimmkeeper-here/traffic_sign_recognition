{
 "cells": [
  {
   "cell_type": "markdown",
   "metadata": {},
   "source": [
    "# IMPORT LIBRARIES"
   ]
  },
  {
   "cell_type": "code",
   "execution_count": 2,
   "metadata": {},
   "outputs": [],
   "source": [
    "# Libraries for Keras\n",
    "from keras.utils import to_categorical\n",
    "from keras.models import Sequential\n",
    "from keras.layers import Conv2D, MaxPool2D, Dense, Flatten, Dropout\n",
    "from keras.optimizers import Adam\n",
    "\n",
    "# Another\n",
    "import numpy as np \n",
    "import pandas as pd \n",
    "import matplotlib.pyplot as plt\n",
    "import cv2\n",
    "from PIL import Image\n",
    "import os\n",
    "from sklearn.metrics import accuracy_score"
   ]
  },
  {
   "cell_type": "markdown",
   "metadata": {},
   "source": [
    "# LOAD DATA TO TRAIN"
   ]
  },
  {
   "cell_type": "code",
   "execution_count": 3,
   "metadata": {},
   "outputs": [
    {
     "name": "stdout",
     "output_type": "stream",
     "text": [
      "Load Data class 0\n",
      "Load Data class 1\n",
      "Load Data class 2\n",
      "Load Data class 3\n",
      "Load Data class 4\n",
      "Load Data class 5\n",
      "Load Data class 6\n",
      "Load Data class 7\n",
      "Load Data class 8\n",
      "Load Data class 9\n",
      "Load Data class 10\n",
      "Load Data class 11\n",
      "Load Data class 12\n",
      "Load Data class 13\n",
      "Load Data class 14\n",
      "Load Data class 15\n",
      "Load Data class 16\n",
      "Load Data class 17\n",
      "Load Data class 18\n",
      "Load Data class 19\n",
      "Load Data class 20\n",
      "Load Data class 21\n",
      "Load Data class 22\n",
      "Load Data class 23\n",
      "Load Data class 24\n",
      "Load Data class 25\n",
      "Load Data class 26\n",
      "Load Data class 27\n",
      "Load Data class 28\n",
      "Load Data class 29\n",
      "Load Data class 30\n",
      "Load Data class 31\n",
      "Load Data class 32\n",
      "Load Data class 33\n",
      "Load Data class 34\n",
      "Load Data class 35\n",
      "Load Data class 36\n",
      "Load Data class 37\n",
      "Load Data class 38\n",
      "Load Data class 39\n",
      "Load Data class 40\n",
      "Load Data class 41\n",
      "Load Data class 42\n",
      "Load Data Success\n"
     ]
    }
   ],
   "source": [
    "# Define\n",
    "## Constant\n",
    "### Input Image Size\n",
    "height = 32\n",
    "width = 32\n",
    "channels = 3\n",
    "### Class Amount\n",
    "classes = 43\n",
    "### Ratio to split Data Train into 2 part Train and Val: 80% to train and 20% to val.\n",
    "ratio = 0.2\n",
    "\n",
    "## Variable\n",
    "data=[]\n",
    "labels=[]\n",
    "\n",
    "# Main\n",
    "## Reading the input images and putting them into a numpy array\n",
    "for i in range(classes) :\n",
    "    path = \"./input/train/{0}/\".format(i)\n",
    "    print(\"Load Data class {}\".format(i))\n",
    "    Class=os.listdir(path)\n",
    "    for a in Class:\n",
    "        try:\n",
    "            image=cv2.imread(path+a)\n",
    "            image_from_array = Image.fromarray(image, 'RGB')\n",
    "            size_image = image_from_array.resize((height, width))\n",
    "            data.append(np.array(size_image))\n",
    "            labels.append(i)\n",
    "        except AttributeError:\n",
    "            print(\" \")            \n",
    "Cells=np.array(data)\n",
    "labels=np.array(labels)\n",
    "\n",
    "## Randomize the order of the input images\n",
    "s=np.arange(Cells.shape[0])\n",
    "np.random.seed(classes)\n",
    "np.random.shuffle(s)\n",
    "Cells=Cells[s]\n",
    "labels=labels[s]\n",
    "\n",
    "## Spliting the images into train and validation sets \n",
    "(X_train,X_val)=Cells[(int)(ratio*len(labels)):],Cells[:(int)(ratio*len(labels))]\n",
    "X_train = X_train.astype('float32')/255 \n",
    "X_val = X_val.astype('float32')/255\n",
    "(y_train,y_val)=labels[(int)(ratio*len(labels)):],labels[:(int)(ratio*len(labels))]\n",
    "### Using one hote encoding for the train and validation labels\n",
    "y_train = to_categorical(y_train, classes)\n",
    "y_val = to_categorical(y_val, classes)\n",
    "\n",
    "print(\"Load Data Success\")"
   ]
  },
  {
   "cell_type": "markdown",
   "metadata": {},
   "source": [
    "# DEFINITION OF THE LENET 5 MODEL"
   ]
  },
  {
   "cell_type": "code",
   "execution_count": 4,
   "metadata": {},
   "outputs": [
    {
     "name": "stdout",
     "output_type": "stream",
     "text": [
      "Model: \"sequential_1\"\n",
      "_________________________________________________________________\n",
      "Layer (type)                 Output Shape              Param #   \n",
      "=================================================================\n",
      "conv2d_1 (Conv2D)            (None, 28, 28, 6)         456       \n",
      "_________________________________________________________________\n",
      "max_pooling2d_1 (MaxPooling2 (None, 14, 14, 6)         0         \n",
      "_________________________________________________________________\n",
      "conv2d_2 (Conv2D)            (None, 10, 10, 16)        2416      \n",
      "_________________________________________________________________\n",
      "max_pooling2d_2 (MaxPooling2 (None, 5, 5, 16)          0         \n",
      "_________________________________________________________________\n",
      "flatten_1 (Flatten)          (None, 400)               0         \n",
      "_________________________________________________________________\n",
      "dense_1 (Dense)              (None, 120)               48120     \n",
      "_________________________________________________________________\n",
      "dense_2 (Dense)              (None, 84)                10164     \n",
      "_________________________________________________________________\n",
      "dense_3 (Dense)              (None, 43)                3655      \n",
      "=================================================================\n",
      "Total params: 64,811\n",
      "Trainable params: 64,811\n",
      "Non-trainable params: 0\n",
      "_________________________________________________________________\n"
     ]
    }
   ],
   "source": [
    "model = Sequential()\n",
    "# Layer 1: Convolutional. Input = 32x32x3. Output = 28x28x6. Activation = RELU.\n",
    "model.add(Conv2D(filters=6, kernel_size=(5,5),strides=1, padding='valid', activation='relu', input_shape=X_train.shape[1:]))\n",
    "# Pooling. Input = 28x28x6. Output = 14x14x6.\n",
    "model.add(MaxPool2D(pool_size=(2, 2),strides=2, padding='valid'))\n",
    "# Layer 2: Convolutional. Output = 10x10x16. Activation = RELU.\n",
    "model.add(Conv2D(filters=16, kernel_size=(5,5),strides=1, padding='valid', activation='relu'))\n",
    "# Pooling. Input = 10x10x16. Output = 5x5x16.\n",
    "model.add(MaxPool2D(pool_size=(2, 2),strides=2, padding='valid'))\n",
    "# Flatten. Input = 5x5x16. Output = 400.\n",
    "model.add(Flatten())\n",
    "# Layer 3: Fully Connected. Input = 400. Output = 120. Activation = RELU.\n",
    "model.add(Dense(120, activation='relu'))\n",
    "# Layer 4: Fully Connected. Input = 120. Output = 84. Activation = RELU.\n",
    "model.add(Dense(84, activation='relu'))\n",
    "# Layer 5: Fully Connected. Input = 84. Output = 43.\n",
    "model.add(Dense(43, activation='softmax'))\n",
    "\n",
    "model.build()\n",
    "model.summary()"
   ]
  },
  {
   "cell_type": "markdown",
   "metadata": {},
   "source": [
    "# TRAIN MODEL"
   ]
  },
  {
   "cell_type": "code",
   "execution_count": 5,
   "metadata": {},
   "outputs": [
    {
     "name": "stdout",
     "output_type": "stream",
     "text": [
      "Train on 31368 samples, validate on 7841 samples\n",
      "Epoch 1/50\n",
      "31368/31368 [==============================] - 9s 276us/step - loss: 1.9778 - accuracy: 0.4744 - val_loss: 0.9203 - val_accuracy: 0.7410\n",
      "Epoch 2/50\n",
      "31368/31368 [==============================] - 8s 266us/step - loss: 0.6719 - accuracy: 0.8070 - val_loss: 0.6912 - val_accuracy: 0.8017\n",
      "Epoch 3/50\n",
      "31368/31368 [==============================] - 8s 266us/step - loss: 0.4376 - accuracy: 0.8764 - val_loss: 0.4204 - val_accuracy: 0.8792\n",
      "Epoch 4/50\n",
      "31368/31368 [==============================] - 8s 269us/step - loss: 0.3194 - accuracy: 0.9075 - val_loss: 0.3334 - val_accuracy: 0.9097\n",
      "Epoch 5/50\n",
      "31368/31368 [==============================] - 8s 270us/step - loss: 0.2472 - accuracy: 0.9281 - val_loss: 0.3028 - val_accuracy: 0.9189\n",
      "Epoch 6/50\n",
      "31368/31368 [==============================] - 8s 268us/step - loss: 0.1841 - accuracy: 0.9465 - val_loss: 0.2314 - val_accuracy: 0.9394\n",
      "Epoch 7/50\n",
      "31368/31368 [==============================] - 8s 266us/step - loss: 0.1441 - accuracy: 0.9585 - val_loss: 0.2102 - val_accuracy: 0.9462\n",
      "Epoch 8/50\n",
      "31368/31368 [==============================] - 8s 270us/step - loss: 0.1270 - accuracy: 0.9632 - val_loss: 0.1911 - val_accuracy: 0.9534\n",
      "Epoch 9/50\n",
      "31368/31368 [==============================] - 8s 267us/step - loss: 0.1082 - accuracy: 0.9674 - val_loss: 0.1854 - val_accuracy: 0.9532\n",
      "Epoch 10/50\n",
      "31368/31368 [==============================] - 8s 267us/step - loss: 0.0975 - accuracy: 0.9711 - val_loss: 0.1614 - val_accuracy: 0.9611\n",
      "Epoch 11/50\n",
      "31368/31368 [==============================] - 8s 266us/step - loss: 0.0836 - accuracy: 0.9752 - val_loss: 0.1734 - val_accuracy: 0.9582\n",
      "Epoch 12/50\n",
      "31368/31368 [==============================] - 8s 267us/step - loss: 0.0755 - accuracy: 0.9777 - val_loss: 0.1488 - val_accuracy: 0.9667\n",
      "Epoch 13/50\n",
      "31368/31368 [==============================] - 8s 267us/step - loss: 0.0669 - accuracy: 0.9801 - val_loss: 0.1611 - val_accuracy: 0.9615\n",
      "Epoch 14/50\n",
      "31368/31368 [==============================] - 8s 266us/step - loss: 0.0569 - accuracy: 0.9831 - val_loss: 0.1674 - val_accuracy: 0.9620\n",
      "Epoch 15/50\n",
      "31368/31368 [==============================] - 8s 271us/step - loss: 0.0557 - accuracy: 0.9813 - val_loss: 0.1677 - val_accuracy: 0.9611\n",
      "Epoch 16/50\n",
      "31368/31368 [==============================] - 8s 268us/step - loss: 0.0405 - accuracy: 0.9873 - val_loss: 0.1610 - val_accuracy: 0.9668\n",
      "Epoch 17/50\n",
      "31368/31368 [==============================] - 8s 267us/step - loss: 0.0481 - accuracy: 0.9857 - val_loss: 0.1921 - val_accuracy: 0.9603\n",
      "Epoch 18/50\n",
      "31368/31368 [==============================] - 8s 267us/step - loss: 0.0426 - accuracy: 0.9868 - val_loss: 0.1413 - val_accuracy: 0.9728\n",
      "Epoch 19/50\n",
      "31368/31368 [==============================] - 8s 267us/step - loss: 0.0474 - accuracy: 0.9842 - val_loss: 0.1617 - val_accuracy: 0.9676\n",
      "Epoch 20/50\n",
      "31368/31368 [==============================] - 8s 269us/step - loss: 0.0375 - accuracy: 0.9884 - val_loss: 0.1473 - val_accuracy: 0.9719\n",
      "Epoch 21/50\n",
      "31368/31368 [==============================] - 8s 268us/step - loss: 0.0406 - accuracy: 0.9881 - val_loss: 0.1598 - val_accuracy: 0.9682\n",
      "Epoch 22/50\n",
      "31368/31368 [==============================] - 9s 273us/step - loss: 0.0383 - accuracy: 0.9874 - val_loss: 0.1442 - val_accuracy: 0.9730\n",
      "Epoch 23/50\n",
      "31368/31368 [==============================] - 9s 274us/step - loss: 0.0334 - accuracy: 0.9901 - val_loss: 0.1514 - val_accuracy: 0.9753\n",
      "Epoch 24/50\n",
      "31368/31368 [==============================] - 9s 274us/step - loss: 0.0219 - accuracy: 0.9934 - val_loss: 0.1452 - val_accuracy: 0.9763\n",
      "Epoch 25/50\n",
      "31368/31368 [==============================] - 9s 276us/step - loss: 0.0146 - accuracy: 0.9956 - val_loss: 0.1444 - val_accuracy: 0.9736\n",
      "Epoch 26/50\n",
      "31368/31368 [==============================] - 8s 270us/step - loss: 0.0249 - accuracy: 0.9923 - val_loss: 0.2333 - val_accuracy: 0.9629\n",
      "Epoch 27/50\n",
      "31368/31368 [==============================] - 9s 271us/step - loss: 0.0507 - accuracy: 0.9843 - val_loss: 0.1720 - val_accuracy: 0.9702\n",
      "Epoch 28/50\n",
      "31368/31368 [==============================] - 8s 269us/step - loss: 0.0451 - accuracy: 0.9865 - val_loss: 0.2038 - val_accuracy: 0.9598\n",
      "Epoch 29/50\n",
      "31368/31368 [==============================] - 9s 271us/step - loss: 0.0326 - accuracy: 0.9906 - val_loss: 0.1549 - val_accuracy: 0.9737\n",
      "Epoch 30/50\n",
      "31368/31368 [==============================] - 9s 274us/step - loss: 0.0165 - accuracy: 0.9948 - val_loss: 0.1463 - val_accuracy: 0.9788\n",
      "Epoch 31/50\n",
      "31368/31368 [==============================] - 8s 269us/step - loss: 0.0095 - accuracy: 0.9972 - val_loss: 0.1436 - val_accuracy: 0.9796\n",
      "Epoch 32/50\n",
      "31368/31368 [==============================] - 9s 271us/step - loss: 0.0092 - accuracy: 0.9973 - val_loss: 0.1616 - val_accuracy: 0.9768\n",
      "Epoch 33/50\n",
      "31368/31368 [==============================] - 9s 275us/step - loss: 0.0296 - accuracy: 0.9904 - val_loss: 0.1772 - val_accuracy: 0.9668\n",
      "Epoch 34/50\n",
      "31368/31368 [==============================] - 9s 279us/step - loss: 0.0401 - accuracy: 0.9881 - val_loss: 0.1718 - val_accuracy: 0.9717\n",
      "Epoch 35/50\n",
      "31368/31368 [==============================] - 8s 270us/step - loss: 0.0160 - accuracy: 0.9947 - val_loss: 0.1846 - val_accuracy: 0.9718\n",
      "Epoch 36/50\n",
      "31368/31368 [==============================] - 8s 269us/step - loss: 0.0300 - accuracy: 0.9909 - val_loss: 0.2115 - val_accuracy: 0.9686\n",
      "Epoch 37/50\n",
      "31368/31368 [==============================] - 8s 265us/step - loss: 0.0241 - accuracy: 0.9923 - val_loss: 0.1728 - val_accuracy: 0.9742\n",
      "Epoch 38/50\n",
      "31368/31368 [==============================] - 8s 263us/step - loss: 0.0138 - accuracy: 0.9958 - val_loss: 0.1638 - val_accuracy: 0.9747\n",
      "Epoch 39/50\n",
      "31368/31368 [==============================] - 9s 272us/step - loss: 0.0143 - accuracy: 0.9960 - val_loss: 0.1469 - val_accuracy: 0.9787\n",
      "Epoch 40/50\n",
      "31368/31368 [==============================] - 9s 281us/step - loss: 0.0128 - accuracy: 0.9961 - val_loss: 0.1410 - val_accuracy: 0.9790\n",
      "Epoch 41/50\n",
      "31368/31368 [==============================] - 9s 273us/step - loss: 0.0174 - accuracy: 0.9947 - val_loss: 0.2222 - val_accuracy: 0.9648\n",
      "Epoch 42/50\n",
      "31368/31368 [==============================] - 9s 272us/step - loss: 0.0408 - accuracy: 0.9881 - val_loss: 0.1646 - val_accuracy: 0.9781\n",
      "Epoch 43/50\n",
      "31368/31368 [==============================] - 8s 270us/step - loss: 0.0310 - accuracy: 0.9912 - val_loss: 0.1779 - val_accuracy: 0.9718\n",
      "Epoch 44/50\n",
      "31368/31368 [==============================] - 9s 271us/step - loss: 0.0156 - accuracy: 0.9957 - val_loss: 0.1442 - val_accuracy: 0.9793\n",
      "Epoch 45/50\n",
      "31368/31368 [==============================] - 9s 272us/step - loss: 0.0057 - accuracy: 0.9982 - val_loss: 0.1464 - val_accuracy: 0.9802\n",
      "Epoch 46/50\n",
      "31368/31368 [==============================] - 9s 272us/step - loss: 0.0112 - accuracy: 0.9967 - val_loss: 0.1453 - val_accuracy: 0.9790\n",
      "Epoch 47/50\n",
      "31368/31368 [==============================] - 8s 271us/step - loss: 0.0039 - accuracy: 0.9991 - val_loss: 0.1393 - val_accuracy: 0.9813\n",
      "Epoch 48/50\n",
      "31368/31368 [==============================] - 8s 270us/step - loss: 0.0233 - accuracy: 0.9933 - val_loss: 0.1393 - val_accuracy: 0.9776\n",
      "Epoch 49/50\n",
      "31368/31368 [==============================] - 8s 270us/step - loss: 0.0118 - accuracy: 0.9966 - val_loss: 0.1457 - val_accuracy: 0.9809\n",
      "Epoch 50/50\n",
      "31368/31368 [==============================] - 9s 281us/step - loss: 0.0181 - accuracy: 0.9949 - val_loss: 0.1764 - val_accuracy: 0.9686\n"
     ]
    }
   ],
   "source": [
    "# Define\n",
    "## Contant\n",
    "EPOCHS = 50\n",
    "BATCH_SIZE = 200\n",
    "## Compilation of the model\n",
    "adam = Adam(lr=0.002)\n",
    "model.compile(\n",
    "    loss='categorical_crossentropy', \n",
    "    optimizer=adam, \n",
    "    metrics=['accuracy']\n",
    ")\n",
    "\n",
    "# Main\n",
    "## Train model\n",
    "history = model.fit(X_train, y_train, batch_size=BATCH_SIZE, epochs=EPOCHS,validation_data=(X_val, y_val))"
   ]
  },
  {
   "cell_type": "markdown",
   "metadata": {},
   "source": [
    "# SUMMARIZE"
   ]
  },
  {
   "cell_type": "code",
   "execution_count": 6,
   "metadata": {},
   "outputs": [
    {
     "data": {
      "image/png": "[encoded data removed]",
      "text/plain": [
       "<Figure size 432x288 with 1 Axes>"
      ]
     },
     "metadata": {
      "needs_background": "light"
     },
     "output_type": "display_data"
    }
   ],
   "source": [
    "# summarize history for accuracy\n",
    "\n",
    "plt.plot(history.history['accuracy'])\n",
    "plt.plot(history.history['val_accuracy'])\n",
    "plt.title('model accuracy')\n",
    "plt.ylabel('accuracy')\n",
    "plt.xlabel('epoch')\n",
    "plt.legend(['train', 'val'], loc='upper left')\n",
    "plt.show()"
   ]
  },
  {
   "cell_type": "code",
   "execution_count": 7,
   "metadata": {},
   "outputs": [
    {
     "data": {
      "image/png": "[encoded data removed]",
      "text/plain": [
       "<Figure size 432x288 with 1 Axes>"
      ]
     },
     "metadata": {
      "needs_background": "light"
     },
     "output_type": "display_data"
    }
   ],
   "source": [
    "# summarize history for loss\n",
    "\n",
    "plt.plot(history.history['loss'])\n",
    "plt.plot(history.history['val_loss'])\n",
    "plt.title('model loss')\n",
    "plt.ylabel('loss')\n",
    "plt.xlabel('epoch')\n",
    "plt.legend(['train', 'val'], loc='upper left')\n",
    "plt.show()"
   ]
  },
  {
   "cell_type": "markdown",
   "metadata": {},
   "source": [
    "# PREDICT WITH THE TEST DATA AND SAVE MODEL"
   ]
  },
  {
   "cell_type": "code",
   "execution_count": 8,
   "metadata": {},
   "outputs": [
    {
     "name": "stdout",
     "output_type": "stream",
     "text": [
      "Load Test Data\n",
      "Test Accuracy: 0.9050673000791766\n",
      "Saved model to disk\n"
     ]
    }
   ],
   "source": [
    "# Define\n",
    "## Variable\n",
    "data=[]\n",
    "\n",
    "# Main\n",
    "## Load Test Data\n",
    "print(\"Load Test Data\")\n",
    "y_test=pd.read_csv(\"./input/Test.csv\")\n",
    "labels=y_test['Path'].values\n",
    "y_test=y_test['ClassId'].values\n",
    "for f in labels:\n",
    "    path ='./input/test/'+f.replace('Test/', '')\n",
    "    image=cv2.imread(path)\n",
    "    image_from_array = Image.fromarray(image, 'RGB')\n",
    "    size_image = image_from_array.resize((height, width))\n",
    "    data.append(np.array(size_image))\n",
    "\n",
    "X_test=np.array(data)\n",
    "X_test = X_test.astype('float32')/255\n",
    "\n",
    "## Predict\n",
    "pred = model.predict_classes(X_test)\n",
    "print(\"Test Accuracy: {0}\".format(accuracy_score(y_test, pred)))\n",
    "\n",
    "## Save Model\n",
    "model.save(\"./model/model.h5\")\n",
    "print(\"Saved model to disk\")"
   ]
  }
 ],
 "metadata": {
  "kernelspec": {
   "display_name": "nhanthesis",
   "language": "python",
   "name": "nhanthesis"
  },
  "language_info": {
   "codemirror_mode": {
    "name": "ipython",
    "version": 3
   },
   "file_extension": ".py",
   "mimetype": "text/x-python",
   "name": "python",
   "nbconvert_exporter": "python",
   "pygments_lexer": "ipython3",
   "version": "3.7.1"
  }
 },
 "nbformat": 4,
 "nbformat_minor": 2
}
